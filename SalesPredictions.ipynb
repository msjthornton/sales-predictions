{
  "nbformat": 4,
  "nbformat_minor": 0,
  "metadata": {
    "colab": {
      "provenance": [],
      "authorship_tag": "ABX9TyNwG9dP1TkZT1hOvj/5gBKu",
      "include_colab_link": true
    },
    "kernelspec": {
      "name": "python3",
      "display_name": "Python 3"
    },
    "language_info": {
      "name": "python"
    }
  },
  "cells": [
    {
      "cell_type": "markdown",
      "metadata": {
        "id": "view-in-github",
        "colab_type": "text"
      },
      "source": [
        "<a href=\"https://colab.research.google.com/github/msjthornton/sales-predictions/blob/main/SalesPredictions.ipynb\" target=\"_parent\"><img src=\"https://colab.research.google.com/assets/colab-badge.svg\" alt=\"Open In Colab\"/></a>"
      ]
    },
    {
      "cell_type": "markdown",
      "source": [
        "# Project 1 - Part 1"
      ],
      "metadata": {
        "id": "9kVEqxQYhrA3"
      }
    },
    {
      "cell_type": "markdown",
      "source": [
        "Juanita Thornton"
      ],
      "metadata": {
        "id": "ryC6zH6okq1Y"
      }
    },
    {
      "cell_type": "markdown",
      "source": [
        "## Loading Data"
      ],
      "metadata": {
        "id": "bc2GmGEEiNdQ"
      }
    },
    {
      "cell_type": "code",
      "source": [],
      "metadata": {
        "id": "szMk-6hHjPpb"
      },
      "execution_count": null,
      "outputs": []
    },
    {
      "cell_type": "markdown",
      "source": [
        "## Data Cleaning "
      ],
      "metadata": {
        "id": "VEHPt-14iYMF"
      }
    },
    {
      "cell_type": "code",
      "source": [],
      "metadata": {
        "id": "u0HPKXFsjS3z"
      },
      "execution_count": null,
      "outputs": []
    },
    {
      "cell_type": "markdown",
      "source": [
        "## Exploratory Visuals "
      ],
      "metadata": {
        "id": "yXzp5cFZib34"
      }
    },
    {
      "cell_type": "code",
      "source": [],
      "metadata": {
        "id": "XziIAn_0jUSh"
      },
      "execution_count": null,
      "outputs": []
    },
    {
      "cell_type": "markdown",
      "source": [
        "## Explanatory Visuals"
      ],
      "metadata": {
        "id": "i3AzSbgjivGk"
      }
    },
    {
      "cell_type": "code",
      "source": [],
      "metadata": {
        "id": "gqsw9Rz0jVug"
      },
      "execution_count": null,
      "outputs": []
    }
  ]
}